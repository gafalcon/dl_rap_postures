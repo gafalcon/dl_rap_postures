{
  "nbformat": 4,
  "nbformat_minor": 0,
  "metadata": {
    "colab": {
      "name": "Untitled",
      "version": "0.3.2",
      "provenance": [],
      "toc_visible": true
    },
    "kernelspec": {
      "name": "python3",
      "display_name": "Python 3"
    },
    "accelerator": "GPU"
  },
  "cells": [
    {
      "cell_type": "code",
      "metadata": {
        "id": "Xub6dShxmD_P",
        "colab_type": "code",
        "colab": {}
      },
      "source": [
        "import tensorflow as tf\n",
        "from google.colab import files\n",
        "import io\n",
        "import pandas as pd\n",
        "import numpy as np"
      ],
      "execution_count": 0,
      "outputs": []
    },
    {
      "cell_type": "code",
      "metadata": {
        "id": "yIFfgU4UjKkD",
        "colab_type": "code",
        "outputId": "0b85e3ea-0005-4969-d127-d0f4f6020835",
        "colab": {
          "base_uri": "https://localhost:8080/",
          "height": 35
        }
      },
      "source": [
        "!ls"
      ],
      "execution_count": 0,
      "outputs": [
        {
          "output_type": "stream",
          "text": [
            "sample_data  test.csv  train.csv\n"
          ],
          "name": "stdout"
        }
      ]
    },
    {
      "cell_type": "markdown",
      "metadata": {
        "id": "BlVGENSyGVLN",
        "colab_type": "text"
      },
      "source": [
        "# Load Files"
      ]
    },
    {
      "cell_type": "code",
      "metadata": {
        "id": "x2J1cs32mSFC",
        "colab_type": "code",
        "outputId": "2c243129-5502-4ff6-fc11-a4d879943074",
        "colab": {
          "resources": {
            "http://localhost:8080/nbextensions/google.colab/files.js": {
              "data": "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",
              "ok": true,
              "headers": [
                [
                  "content-type",
                  "application/javascript"
                ]
              ],
              "status": 200,
              "status_text": "OK"
            }
          },
          "base_uri": "https://localhost:8080/",
          "height": 253
        }
      },
      "source": [
        "uploaded = files.upload()"
      ],
      "execution_count": 0,
      "outputs": [
        {
          "output_type": "display_data",
          "data": {
            "text/html": [
              "\n",
              "     <input type=\"file\" id=\"files-c72668f5-0241-4aaa-ae65-21f595796e8f\" name=\"files[]\" multiple disabled />\n",
              "     <output id=\"result-c72668f5-0241-4aaa-ae65-21f595796e8f\">\n",
              "      Upload widget is only available when the cell has been executed in the\n",
              "      current browser session. Please rerun this cell to enable.\n",
              "      </output>\n",
              "      <script src=\"/nbextensions/google.colab/files.js\"></script> "
            ],
            "text/plain": [
              "<IPython.core.display.HTML object>"
            ]
          },
          "metadata": {
            "tags": []
          }
        },
        {
          "output_type": "stream",
          "text": [
            "Saving test.csv to test.csv\n",
            "Saving test_bin.csv to test_bin.csv\n",
            "Saving train.csv to train.csv\n",
            "Saving train_bin.csv to train_bin.csv\n",
            "Saving y_test.csv to y_test.csv\n",
            "Saving y_train.csv to y_train.csv\n"
          ],
          "name": "stdout"
        }
      ]
    },
    {
      "cell_type": "code",
      "metadata": {
        "id": "_-0yKK6_oi9J",
        "colab_type": "code",
        "outputId": "4b84dc1e-d9cb-4f4b-e66e-8e8d2a5277bb",
        "colab": {
          "base_uri": "https://localhost:8080/",
          "height": 35
        }
      },
      "source": [
        "print(uploaded.keys())"
      ],
      "execution_count": 0,
      "outputs": [
        {
          "output_type": "stream",
          "text": [
            "dict_keys(['test.csv', 'test_bin.csv', 'train.csv', 'train_bin.csv'])\n"
          ],
          "name": "stdout"
        }
      ]
    },
    {
      "cell_type": "code",
      "metadata": {
        "id": "9LoDtdmRm2jP",
        "colab_type": "code",
        "colab": {}
      },
      "source": [
        "train_bin = pd.read_csv(io.BytesIO(uploaded['train_bin.csv']))\n",
        "train = pd.read_csv(io.BytesIO(uploaded['train.csv']))\n",
        "test_bin = pd.read_csv(io.BytesIO(uploaded['test_bin.csv']))\n",
        "test = pd.read_csv(io.BytesIO(uploaded['test.csv']))\n",
        "y_train = pd.read_csv(io.BytesIO(uploaded['y_train.csv']))\n",
        "y_test = pd.read_csv(io.BytesIO(uploaded['y_test.csv']))"
      ],
      "execution_count": 0,
      "outputs": []
    },
    {
      "cell_type": "markdown",
      "metadata": {
        "id": "g4CvIX1IIPtW",
        "colab_type": "text"
      },
      "source": [
        "# Get train/test data"
      ]
    },
    {
      "cell_type": "code",
      "metadata": {
        "id": "U_6sxrKYj7SA",
        "colab_type": "code",
        "colab": {}
      },
      "source": [
        "train = pd.read_csv(\"train.csv\")\n",
        "test = pd.read_csv(\"test.csv\")"
      ],
      "execution_count": 0,
      "outputs": []
    },
    {
      "cell_type": "code",
      "metadata": {
        "id": "zyCRUxAvkN3l",
        "colab_type": "code",
        "outputId": "d09501b6-8824-4fbc-8643-409ecdef524e",
        "colab": {
          "base_uri": "https://localhost:8080/",
          "height": 217
        }
      },
      "source": [
        "train.columns"
      ],
      "execution_count": 0,
      "outputs": [
        {
          "output_type": "execute_result",
          "data": {
            "text/plain": [
              "Index(['Frame', 'Nose_x', 'Nose_y', 'Neck_x', 'Neck_y', 'RShoulder_x',\n",
              "       'RShoulder_y', 'RElbow_x', 'RElbow_y', 'RWrist_x', 'RWrist_y',\n",
              "       'LShoulder_x', 'LShoulder_y', 'LElbow_x', 'LElbow_y', 'LWrist_x',\n",
              "       'LWrist_y', 'MidHip_x', 'MidHip_y', 'RHip_x', 'RHip_y', 'RKnee_x',\n",
              "       'RKnee_y', 'RAnkle_x', 'RAnkle_y', 'LHip_x', 'LHip_y', 'LKnee_x',\n",
              "       'LKnee_y', 'LAnkle_x', 'LAnkle_y', 'REye_x', 'REye_y', 'LEye_x',\n",
              "       'LEye_y', 'REar_x', 'REar_y', 'LEar_x', 'LEar_y', 'LBigToe_x',\n",
              "       'LBigToe_y', 'LSmallToe_x', 'LSmallToe_y', 'LHeel_x', 'LHeel_y',\n",
              "       'RBigToe_x', 'RBigToe_y', 'RSmallToe_x', 'RSmallToe_y', 'RHeel_x',\n",
              "       'RHeel_y', 'ds', 'postura_b', 'tipo_postura', 'postura'],\n",
              "      dtype='object')"
            ]
          },
          "metadata": {
            "tags": []
          },
          "execution_count": 5
        }
      ]
    },
    {
      "cell_type": "code",
      "metadata": {
        "id": "3bIwbt_qotBI",
        "colab_type": "code",
        "outputId": "7c35b1bc-11d0-4d56-d820-02512aad2006",
        "colab": {
          "base_uri": "https://localhost:8080/",
          "height": 199
        }
      },
      "source": [
        "X_train = train.iloc[:, 1:-4]\n",
        "y_train = train.iloc[:, -1]\n",
        "y_bin = train.iloc[:, -3]\n",
        "\n",
        "X_test = test.iloc[:, 1:-4]\n",
        "y_test = test.iloc[:, -1]\n",
        "y_test_b = test.iloc[:, -3]\n",
        "\n",
        "print(X_train.columns)"
      ],
      "execution_count": 0,
      "outputs": [
        {
          "output_type": "stream",
          "text": [
            "Index(['Nose_x', 'Nose_y', 'Neck_x', 'Neck_y', 'RShoulder_x', 'RShoulder_y',\n",
            "       'RElbow_x', 'RElbow_y', 'RWrist_x', 'RWrist_y', 'LShoulder_x',\n",
            "       'LShoulder_y', 'LElbow_x', 'LElbow_y', 'LWrist_x', 'LWrist_y',\n",
            "       'MidHip_x', 'MidHip_y', 'RHip_x', 'RHip_y', 'RKnee_x', 'RKnee_y',\n",
            "       'RAnkle_x', 'RAnkle_y', 'LHip_x', 'LHip_y', 'LKnee_x', 'LKnee_y',\n",
            "       'LAnkle_x', 'LAnkle_y', 'REye_x', 'REye_y', 'LEye_x', 'LEye_y',\n",
            "       'REar_x', 'REar_y', 'LEar_x', 'LEar_y', 'LBigToe_x', 'LBigToe_y',\n",
            "       'LSmallToe_x', 'LSmallToe_y', 'LHeel_x', 'LHeel_y', 'RBigToe_x',\n",
            "       'RBigToe_y', 'RSmallToe_x', 'RSmallToe_y', 'RHeel_x', 'RHeel_y'],\n",
            "      dtype='object')\n"
          ],
          "name": "stdout"
        }
      ]
    },
    {
      "cell_type": "markdown",
      "metadata": {
        "id": "TSPIS4NnIYTG",
        "colab_type": "text"
      },
      "source": [
        "# Train Binary Classifier"
      ]
    },
    {
      "cell_type": "code",
      "metadata": {
        "id": "_IMSjdI-83tY",
        "colab_type": "code",
        "colab": {}
      },
      "source": [
        "from tensorflow.keras import layers"
      ],
      "execution_count": 0,
      "outputs": []
    },
    {
      "cell_type": "code",
      "metadata": {
        "id": "diFS0YaZo1UA",
        "colab_type": "code",
        "outputId": "163301f4-fd2c-4269-e0e7-f96f84b97ed4",
        "colab": {
          "base_uri": "https://localhost:8080/",
          "height": 164
        }
      },
      "source": [
        "model = tf.keras.Sequential()\n",
        "model.add(layers.Dense(128, activation='relu', input_dim=len(X_train.columns)))\n",
        "model.add(layers.Dense(128, activation='relu'))\n",
        "model.add(layers.Dense(1, activation='sigmoid'))\n",
        "model.compile(optimizer='Adam',\n",
        " loss='binary_crossentropy',\n",
        " metrics=['accuracy'])"
      ],
      "execution_count": 0,
      "outputs": [
        {
          "output_type": "stream",
          "text": [
            "WARNING: Logging before flag parsing goes to stderr.\n",
            "W0726 18:39:10.416371 140147361429376 deprecation.py:506] From /usr/local/lib/python3.6/dist-packages/tensorflow/python/ops/init_ops.py:1251: calling VarianceScaling.__init__ (from tensorflow.python.ops.init_ops) with dtype is deprecated and will be removed in a future version.\n",
            "Instructions for updating:\n",
            "Call initializer instance with the dtype argument instead of passing it to the constructor\n",
            "W0726 18:39:10.505736 140147361429376 deprecation.py:323] From /usr/local/lib/python3.6/dist-packages/tensorflow/python/ops/nn_impl.py:180: add_dispatch_support.<locals>.wrapper (from tensorflow.python.ops.array_ops) is deprecated and will be removed in a future version.\n",
            "Instructions for updating:\n",
            "Use tf.where in 2.0, which has the same broadcast rule as np.where\n"
          ],
          "name": "stderr"
        }
      ]
    },
    {
      "cell_type": "code",
      "metadata": {
        "id": "To4f2cJa9x0R",
        "colab_type": "code",
        "outputId": "5bacb5ae-61a5-4bc5-f851-22d2d7207437",
        "colab": {
          "base_uri": "https://localhost:8080/",
          "height": 399
        }
      },
      "source": [
        "model.fit(X_train, y_bin, epochs=10, batch_size=10)"
      ],
      "execution_count": 0,
      "outputs": [
        {
          "output_type": "stream",
          "text": [
            "Epoch 1/10\n",
            "33520/33520 [==============================] - 9s 269us/sample - loss: 3.3311 - acc: 0.7513\n",
            "Epoch 2/10\n",
            "33520/33520 [==============================] - 8s 238us/sample - loss: 0.5384 - acc: 0.8263\n",
            "Epoch 3/10\n",
            "33520/33520 [==============================] - 8s 240us/sample - loss: 0.3403 - acc: 0.8746\n",
            "Epoch 4/10\n",
            "33520/33520 [==============================] - 8s 241us/sample - loss: 0.2886 - acc: 0.8923\n",
            "Epoch 5/10\n",
            "33520/33520 [==============================] - 8s 239us/sample - loss: 0.2430 - acc: 0.9076\n",
            "Epoch 6/10\n",
            "33520/33520 [==============================] - 8s 238us/sample - loss: 0.2223 - acc: 0.9156\n",
            "Epoch 7/10\n",
            "33520/33520 [==============================] - 8s 239us/sample - loss: 0.2127 - acc: 0.9197\n",
            "Epoch 8/10\n",
            "33520/33520 [==============================] - 8s 238us/sample - loss: 0.1993 - acc: 0.9232\n",
            "Epoch 9/10\n",
            "33520/33520 [==============================] - 8s 240us/sample - loss: 0.1934 - acc: 0.9260\n",
            "Epoch 10/10\n",
            "33520/33520 [==============================] - 8s 239us/sample - loss: 0.1965 - acc: 0.9275\n"
          ],
          "name": "stdout"
        },
        {
          "output_type": "execute_result",
          "data": {
            "text/plain": [
              "<tensorflow.python.keras.callbacks.History at 0x7f764e576cf8>"
            ]
          },
          "metadata": {
            "tags": []
          },
          "execution_count": 9
        }
      ]
    },
    {
      "cell_type": "markdown",
      "metadata": {
        "id": "_DLx9B00JT_c",
        "colab_type": "text"
      },
      "source": [
        "## Evaluate binary model"
      ]
    },
    {
      "cell_type": "code",
      "metadata": {
        "id": "IbktJ0EH_fyu",
        "colab_type": "code",
        "outputId": "1b2221ea-eb04-49a3-9527-2196a2039e4a",
        "colab": {
          "base_uri": "https://localhost:8080/",
          "height": 108
        }
      },
      "source": [
        "scores = model.evaluate(X_test, y_test_b)\n",
        "for i in range(len(scores)):\n",
        " print(\"\\n%s: %.2f%%\" % (model.metrics_names[i], scores[i]*100))"
      ],
      "execution_count": 0,
      "outputs": [
        {
          "output_type": "stream",
          "text": [
            "8381/8381 [==============================] - 0s 44us/sample - loss: 0.2399 - acc: 0.9063\n",
            "\n",
            "loss: 23.99%\n",
            "\n",
            "acc: 90.63%\n"
          ],
          "name": "stdout"
        }
      ]
    },
    {
      "cell_type": "markdown",
      "metadata": {
        "id": "bcdxI66AJbH-",
        "colab_type": "text"
      },
      "source": [
        "# Train Multiclass Model"
      ]
    },
    {
      "cell_type": "code",
      "metadata": {
        "id": "Nl17jlsnCesg",
        "colab_type": "code",
        "colab": {}
      },
      "source": [
        "model_mc = tf.keras.Sequential()\n",
        "model_mc.add(layers.Dense(128, activation='relu', input_dim=len(X_train.columns)))\n",
        "model_mc.add(layers.Dense(128, activation='relu'))\n",
        "model_mc.add(layers.Dense(128, activation='relu'))\n",
        "#model_mc.add(layers.Dropout(0.5))\n",
        "model_mc.add(layers.Dense(128, activation='relu'))\n",
        "model_mc.add(layers.Dense(64, activation='relu'))\n",
        "model_mc.add(layers.Dense(7, activation='softmax'))\n",
        "\n",
        "model_mc.compile(optimizer='Adam',\n",
        "              loss='sparse_categorical_crossentropy', metrics=['accuracy'])"
      ],
      "execution_count": 0,
      "outputs": []
    },
    {
      "cell_type": "code",
      "metadata": {
        "id": "4fo310PkJyC9",
        "colab_type": "code",
        "outputId": "76a9bb7e-272b-4cfb-f71b-dc916264c605",
        "colab": {
          "base_uri": "https://localhost:8080/",
          "height": 580
        }
      },
      "source": [
        "model_mc.fit(X_train, y_train.values, epochs=15, batch_size=64)"
      ],
      "execution_count": 0,
      "outputs": [
        {
          "output_type": "stream",
          "text": [
            "Epoch 1/15\n",
            "33520/33520 [==============================] - 2s 49us/sample - loss: 4.6527 - acc: 0.3514\n",
            "Epoch 2/15\n",
            "33520/33520 [==============================] - 1s 44us/sample - loss: 1.3669 - acc: 0.5041\n",
            "Epoch 3/15\n",
            "33520/33520 [==============================] - 1s 44us/sample - loss: 1.0813 - acc: 0.5937\n",
            "Epoch 4/15\n",
            "33520/33520 [==============================] - 1s 44us/sample - loss: 0.8880 - acc: 0.6692\n",
            "Epoch 5/15\n",
            "33520/33520 [==============================] - 1s 44us/sample - loss: 0.7981 - acc: 0.7029\n",
            "Epoch 6/15\n",
            "33520/33520 [==============================] - 1s 44us/sample - loss: 0.7156 - acc: 0.7320\n",
            "Epoch 7/15\n",
            "33520/33520 [==============================] - 1s 44us/sample - loss: 0.6430 - acc: 0.7593\n",
            "Epoch 8/15\n",
            "33520/33520 [==============================] - 1s 44us/sample - loss: 0.6156 - acc: 0.7661\n",
            "Epoch 9/15\n",
            "33520/33520 [==============================] - 1s 44us/sample - loss: 0.5838 - acc: 0.7821\n",
            "Epoch 10/15\n",
            "33520/33520 [==============================] - 1s 44us/sample - loss: 0.5200 - acc: 0.8049\n",
            "Epoch 11/15\n",
            "33520/33520 [==============================] - 1s 44us/sample - loss: 0.5067 - acc: 0.8100\n",
            "Epoch 12/15\n",
            "33520/33520 [==============================] - 1s 44us/sample - loss: 0.5303 - acc: 0.8011\n",
            "Epoch 13/15\n",
            "33520/33520 [==============================] - 1s 44us/sample - loss: 0.4604 - acc: 0.8234\n",
            "Epoch 14/15\n",
            "33520/33520 [==============================] - 1s 44us/sample - loss: 0.4620 - acc: 0.8254\n",
            "Epoch 15/15\n",
            "33520/33520 [==============================] - 1s 45us/sample - loss: 0.4590 - acc: 0.8230\n"
          ],
          "name": "stdout"
        },
        {
          "output_type": "execute_result",
          "data": {
            "text/plain": [
              "<tensorflow.python.keras.callbacks.History at 0x7f75f5417ac8>"
            ]
          },
          "metadata": {
            "tags": []
          },
          "execution_count": 59
        }
      ]
    },
    {
      "cell_type": "code",
      "metadata": {
        "id": "ScwbgDL8KAoK",
        "colab_type": "code",
        "outputId": "441807c4-29e9-478f-f09b-4792b78e43e2",
        "colab": {
          "base_uri": "https://localhost:8080/",
          "height": 53
        }
      },
      "source": [
        "model_mc.evaluate(X_test, y_test)"
      ],
      "execution_count": 0,
      "outputs": [
        {
          "output_type": "stream",
          "text": [
            "8381/8381 [==============================] - 0s 51us/sample - loss: 0.3935 - acc: 0.8550\n"
          ],
          "name": "stdout"
        },
        {
          "output_type": "execute_result",
          "data": {
            "text/plain": [
              "[0.3935065731671129, 0.8550292]"
            ]
          },
          "metadata": {
            "tags": []
          },
          "execution_count": 60
        }
      ]
    },
    {
      "cell_type": "markdown",
      "metadata": {
        "id": "Uf_abT3ZnbXc",
        "colab_type": "text"
      },
      "source": [
        "# Predict"
      ]
    },
    {
      "cell_type": "code",
      "metadata": {
        "id": "-pk5cSZwPH78",
        "colab_type": "code",
        "colab": {}
      },
      "source": [
        "pred_b = model.predict(X_train)\n",
        "pred_mc = model_mc.predict(X_train)"
      ],
      "execution_count": 0,
      "outputs": []
    },
    {
      "cell_type": "code",
      "metadata": {
        "id": "zAuT6Avtnr36",
        "colab_type": "code",
        "colab": {}
      },
      "source": [
        "X_train[\"pred_b\"] = pred_b\n",
        "X_train[\"pred\"] = pred_mc.argmax(axis=1)\n",
        "X_train.to_csv(\"Xtrain.csv\", index=False)"
      ],
      "execution_count": 0,
      "outputs": []
    },
    {
      "cell_type": "code",
      "metadata": {
        "id": "pTFcDta8ozd-",
        "colab_type": "code",
        "colab": {}
      },
      "source": [
        "pred_b = model.predict(X_test)\n",
        "pred_mc = model_mc.predict(X_test)\n",
        "X_test[\"pred_b\"] = pred_b\n",
        "X_test[\"pred\"] = pred_mc.argmax(axis=1)\n",
        "X_test.to_csv(\"Xtest.csv\", index=False)"
      ],
      "execution_count": 0,
      "outputs": []
    },
    {
      "cell_type": "code",
      "metadata": {
        "id": "jUidY8VrqVxP",
        "colab_type": "code",
        "outputId": "581ebcc7-bba5-40e7-9dc3-47a088296b02",
        "colab": {
          "base_uri": "https://localhost:8080/",
          "height": 53
        }
      },
      "source": [
        "!ls "
      ],
      "execution_count": 0,
      "outputs": [
        {
          "output_type": "stream",
          "text": [
            "2241_no_lbl_pred.csv  mc_model.h5  test.csv   Xtrain.csv\n",
            "binary_model.h5       sample_data  train.csv\n"
          ],
          "name": "stdout"
        }
      ]
    },
    {
      "cell_type": "markdown",
      "metadata": {
        "id": "0-j5NHAIqckw",
        "colab_type": "text"
      },
      "source": [
        "# Read csv to label"
      ]
    },
    {
      "cell_type": "code",
      "metadata": {
        "id": "Zp2BhY6PqgPa",
        "colab_type": "code",
        "colab": {}
      },
      "source": [
        "import glob\n",
        "import os\n"
      ],
      "execution_count": 0,
      "outputs": []
    },
    {
      "cell_type": "code",
      "metadata": {
        "id": "zAJ7vU-6qiq3",
        "colab_type": "code",
        "outputId": "a970e6ab-a663-486c-ebe4-41cc1878cde0",
        "colab": {
          "base_uri": "https://localhost:8080/",
          "height": 55
        }
      },
      "source": [
        "#csvs = glob.glob(\"../*csv\")\n",
        "print(csvs)"
      ],
      "execution_count": 0,
      "outputs": [
        {
          "output_type": "stream",
          "text": [
            "['../2241_no_lbl.csv', '../2304_no_lbl.csv', '../2361_no_lbl.csv', '../2295_no_lbl.csv', '../2100_no_lbl.csv', '../2335_no_lbl.csv', '../2097_no_lbl.csv', '../2280_no_lbl.csv', '../2359_no_lbl.csv', '../2350_no_lbl.csv']\n"
          ],
          "name": "stdout"
        }
      ]
    },
    {
      "cell_type": "code",
      "metadata": {
        "id": "5VmScybNqpBg",
        "colab_type": "code",
        "colab": {}
      },
      "source": [
        "for csv in csvs:\n",
        "  name = os.path.basename(csv).split(\".\")[0]\n",
        "  df = pd.read_csv(csv)\n",
        "  #print(df.columns)\n",
        "  x_t = df.iloc[:, 1:]\n",
        "  df[\"pred_b\"] = model.predict(x_t)\n",
        "  p_mc = model_mc.predict(x_t)\n",
        "  df[\"pred\"] = p_mc.argmax(axis=1)\n",
        "  df.to_csv(name + \"_pred.csv\")"
      ],
      "execution_count": 0,
      "outputs": []
    },
    {
      "cell_type": "markdown",
      "metadata": {
        "id": "ltYcUoMRS4tX",
        "colab_type": "text"
      },
      "source": [
        "# Save model"
      ]
    },
    {
      "cell_type": "code",
      "metadata": {
        "id": "u9gS7yyvS506",
        "colab_type": "code",
        "colab": {}
      },
      "source": [
        "#from tf.keras.models import load_model\n",
        "\n",
        "model.save('binary_model.h5')  # creates a HDF5 file 'my_model.h5'\n",
        "model_mc.save('mc_model3.h5')\n",
        "#del model  # deletes the existing model\n",
        "\n",
        "# returns a compiled model\n",
        "# identical to the previous one\n",
        "#model = load_model('my_model.h5')"
      ],
      "execution_count": 0,
      "outputs": []
    },
    {
      "cell_type": "code",
      "metadata": {
        "id": "AnFKv8LxTHfQ",
        "colab_type": "code",
        "outputId": "5fdc9b5f-5027-4692-d963-da5456e9f030",
        "colab": {
          "base_uri": "https://localhost:8080/",
          "height": 35
        }
      },
      "source": [
        "!ls"
      ],
      "execution_count": 0,
      "outputs": [
        {
          "output_type": "stream",
          "text": [
            "binary_model.h5  mc_model.h5  sample_data  test.csv  train.csv\n"
          ],
          "name": "stdout"
        }
      ]
    },
    {
      "cell_type": "code",
      "metadata": {
        "id": "1qbrCW2FTT42",
        "colab_type": "code",
        "outputId": "a6eb3fd5-3d1d-4ddb-f73c-cf52a7b2b382",
        "colab": {
          "base_uri": "https://localhost:8080/",
          "height": 35
        }
      },
      "source": [
        "tf.__version__"
      ],
      "execution_count": 0,
      "outputs": [
        {
          "output_type": "execute_result",
          "data": {
            "text/plain": [
              "'1.14.0'"
            ]
          },
          "metadata": {
            "tags": []
          },
          "execution_count": 63
        }
      ]
    },
    {
      "cell_type": "code",
      "metadata": {
        "id": "PoSOGzILw4NS",
        "colab_type": "code",
        "colab": {}
      },
      "source": [
        ""
      ],
      "execution_count": 0,
      "outputs": []
    }
  ]
}