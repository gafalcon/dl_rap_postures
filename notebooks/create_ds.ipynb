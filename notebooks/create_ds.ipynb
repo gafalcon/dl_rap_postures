{
 "cells": [
  {
   "cell_type": "code",
   "execution_count": 1,
   "metadata": {},
   "outputs": [],
   "source": [
    "import pandas as pd\n",
    "import glob\n",
    "import os\n",
    "import numpy as np"
   ]
  },
  {
   "cell_type": "code",
   "execution_count": 2,
   "metadata": {},
   "outputs": [],
   "source": [
    "csvs = glob.glob(\"./*csv\")"
   ]
  },
  {
   "cell_type": "code",
   "execution_count": 3,
   "metadata": {},
   "outputs": [
    {
     "data": {
      "text/plain": [
       "['.\\\\carilBad1.csv',\n",
       " '.\\\\carilBad2.csv',\n",
       " '.\\\\carilBad3.csv',\n",
       " '.\\\\carilBad4.csv',\n",
       " '.\\\\carilBad5.csv',\n",
       " '.\\\\carilGood1.csv',\n",
       " '.\\\\carilGood2.csv',\n",
       " '.\\\\ferBad1.csv',\n",
       " '.\\\\ferBad2.csv',\n",
       " '.\\\\ferBad3.csv',\n",
       " '.\\\\ferBad4.csv',\n",
       " '.\\\\ferBad5.csv',\n",
       " '.\\\\ferGood1.csv',\n",
       " '.\\\\ferGood2.csv',\n",
       " '.\\\\ferGood3.csv',\n",
       " '.\\\\fernandoBad1.csv',\n",
       " '.\\\\gabrielBad1.csv',\n",
       " '.\\\\gabrielBad2.csv',\n",
       " '.\\\\gabrielBad3.csv',\n",
       " '.\\\\gabrielBad4.csv',\n",
       " '.\\\\gabrielGood1.csv',\n",
       " '.\\\\gabrielGood2.csv']"
      ]
     },
     "execution_count": 3,
     "metadata": {},
     "output_type": "execute_result"
    }
   ],
   "source": [
    "csvs"
   ]
  },
  {
   "cell_type": "code",
   "execution_count": 7,
   "metadata": {},
   "outputs": [
    {
     "data": {
      "text/plain": [
       "(7, 15, 22)"
      ]
     },
     "execution_count": 7,
     "metadata": {},
     "output_type": "execute_result"
    }
   ],
   "source": [
    "goods = [csv for csv in csvs if \"Good\" in csv]\n",
    "bads = [csv for csv in csvs if \"Bad\" in csv]\n",
    "len(goods), len(bads), len(csvs)"
   ]
  },
  {
   "cell_type": "code",
   "execution_count": 22,
   "metadata": {},
   "outputs": [],
   "source": [
    "df = pd.read_csv(goods[0])"
   ]
  },
  {
   "cell_type": "code",
   "execution_count": 23,
   "metadata": {},
   "outputs": [],
   "source": [
    "df.columns\n",
    "new_columns = [col.strip() for col in df.columns]\n"
   ]
  },
  {
   "cell_type": "code",
   "execution_count": 29,
   "metadata": {},
   "outputs": [
    {
     "name": "stdout",
     "output_type": "stream",
     "text": [
      ".\\carilGood1.csv 2872\n",
      ".\\carilGood2.csv 2305\n",
      ".\\ferGood1.csv 765\n",
      ".\\ferGood2.csv 3511\n",
      ".\\ferGood3.csv 1781\n",
      ".\\gabrielGood1.csv 1119\n",
      ".\\gabrielGood2.csv 1119\n"
     ]
    }
   ],
   "source": [
    "dfs = []\n",
    "for csv in goods:\n",
    "    df = pd.read_csv(csv)\n",
    "    print(csv, len(df))\n",
    "    df.columns = new_columns\n",
    "    df[\"ds\"] = os.path.basename(csv)[:-4]\n",
    "    df[\"postura_b\"] = 1\n",
    "    dfs.append(df)\n",
    "good_dfs = pd.concat(dfs)"
   ]
  },
  {
   "cell_type": "code",
   "execution_count": 26,
   "metadata": {},
   "outputs": [
    {
     "data": {
      "text/plain": [
       "13472"
      ]
     },
     "execution_count": 26,
     "metadata": {},
     "output_type": "execute_result"
    }
   ],
   "source": [
    "len(good_dfs)"
   ]
  },
  {
   "cell_type": "code",
   "execution_count": 30,
   "metadata": {},
   "outputs": [
    {
     "name": "stdout",
     "output_type": "stream",
     "text": [
      ".\\carilBad1.csv 2288\n",
      ".\\carilBad2.csv 2572\n",
      ".\\carilBad3.csv 2660\n",
      ".\\carilBad4.csv 1963\n",
      ".\\carilBad5.csv 1665\n",
      ".\\ferBad1.csv 2102\n",
      ".\\ferBad2.csv 2600\n",
      ".\\ferBad3.csv 3755\n",
      ".\\ferBad4.csv 2535\n",
      ".\\ferBad5.csv 2034\n",
      ".\\fernandoBad1.csv 2102\n",
      ".\\gabrielBad1.csv 959\n",
      ".\\gabrielBad2.csv 1119\n",
      ".\\gabrielBad3.csv 1119\n",
      ".\\gabrielBad4.csv 1119\n"
     ]
    },
    {
     "data": {
      "text/plain": [
       "30592"
      ]
     },
     "execution_count": 30,
     "metadata": {},
     "output_type": "execute_result"
    }
   ],
   "source": [
    "dfs = []\n",
    "for csv in bads:\n",
    "    df = pd.read_csv(csv)\n",
    "    print(csv, len(df))\n",
    "    df.columns = new_columns\n",
    "    df[\"ds\"] = os.path.basename(csv)[:-4]\n",
    "    df[\"postura_b\"] = 0\n",
    "    dfs.append(df)\n",
    "    \n",
    "bad_dfs = pd.concat(dfs)\n",
    "len(bad_dfs)"
   ]
  },
  {
   "cell_type": "code",
   "execution_count": 31,
   "metadata": {},
   "outputs": [],
   "source": [
    "good_dfs.to_csv(\"good.csv\", index=False)\n",
    "bad_dfs.to_csv(\"bad.csv\", index=False)"
   ]
  },
  {
   "cell_type": "code",
   "execution_count": 32,
   "metadata": {},
   "outputs": [
    {
     "data": {
      "text/plain": [
       "44064"
      ]
     },
     "execution_count": 32,
     "metadata": {},
     "output_type": "execute_result"
    }
   ],
   "source": [
    "total_df = pd.concat([good_dfs, bad_dfs])\n",
    "total_df.to_csv(\"complete.csv\", index=False)\n",
    "len(total_df)"
   ]
  },
  {
   "cell_type": "code",
   "execution_count": 36,
   "metadata": {},
   "outputs": [],
   "source": [
    "total_df = pd.read_csv(\"complete.csv\")"
   ]
  },
  {
   "cell_type": "code",
   "execution_count": 37,
   "metadata": {},
   "outputs": [
    {
     "data": {
      "text/plain": [
       "0    30592\n",
       "1    13472\n",
       "Name: postura_b, dtype: int64"
      ]
     },
     "execution_count": 37,
     "metadata": {},
     "output_type": "execute_result"
    }
   ],
   "source": [
    "total_df.postura_b.value_counts()"
   ]
  },
  {
   "cell_type": "code",
   "execution_count": 38,
   "metadata": {},
   "outputs": [],
   "source": [
    "total_df = total_df[total_df.posture != 3]"
   ]
  },
  {
   "cell_type": "code",
   "execution_count": 39,
   "metadata": {},
   "outputs": [
    {
     "data": {
      "text/plain": [
       "0    30496\n",
       "1    13464\n",
       "Name: postura_b, dtype: int64"
      ]
     },
     "execution_count": 39,
     "metadata": {},
     "output_type": "execute_result"
    }
   ],
   "source": [
    "total_df.postura_b.value_counts()"
   ]
  },
  {
   "cell_type": "code",
   "execution_count": 42,
   "metadata": {},
   "outputs": [],
   "source": [
    "total_df = total_df[total_df.ds != \"fernandoBad1\"]"
   ]
  },
  {
   "cell_type": "code",
   "execution_count": 44,
   "metadata": {},
   "outputs": [
    {
     "data": {
      "text/plain": [
       "ferBad3         3752\n",
       "ferGood2        3511\n",
       "carilGood1      2868\n",
       "carilBad3       2660\n",
       "ferBad2         2599\n",
       "carilBad2       2566\n",
       "ferBad4         2456\n",
       "carilGood2      2305\n",
       "carilBad1       2288\n",
       "ferBad1         2102\n",
       "ferBad5         2034\n",
       "carilBad4       1961\n",
       "ferGood3        1781\n",
       "carilBad5       1665\n",
       "gabrielGood2    1119\n",
       "gabrielBad2     1119\n",
       "gabrielBad3     1118\n",
       "gabrielGood1    1115\n",
       "gabrielBad4     1115\n",
       "gabrielBad1      959\n",
       "ferGood1         765\n",
       "Name: ds, dtype: int64"
      ]
     },
     "execution_count": 44,
     "metadata": {},
     "output_type": "execute_result"
    }
   ],
   "source": [
    "total_df.ds.value_counts()"
   ]
  },
  {
   "cell_type": "code",
   "execution_count": 40,
   "metadata": {},
   "outputs": [],
   "source": [
    "translate = {\n",
    " \"carilBad1\": \"manos_abajo\",\n",
    "   \"carilBad2\": \"bolsillos\",\n",
    "    \"carilBad3\": \"manos_juntas\",\n",
    "    \"carilBad4\": \"manos_atras\",\n",
    "    \"carilBad5\": \"brazos_cruzados\",\n",
    "    \"carilGood1\": \"gesticulando\",\n",
    "    \"carilGood2\": \"pointing\",\n",
    "    \"ferBad1\": \"manos_abajo\",\n",
    "    \"ferBad2\": \"bolsillos\",\n",
    "    \"ferBad3\": \"manos_juntas\",\n",
    "    \"ferBad4\": \"manos_atras\",\n",
    "    \"ferBad5\": \"brazos_cruzados\",\n",
    "    \"ferGood1\": \"gesticulando\",\n",
    "    \"ferGood2\": \"gesticulando\",\n",
    "    \"ferGood3\": \"pointing\",\n",
    "    \"gabrielBad1\": \"manos_abajo\",\n",
    "    \"gabrielBad2\": \"manos_juntas\",\n",
    "    \"gabrielBad3\": \"bolsillos\",\n",
    "    \"gabrielBad4\": \"brazos_cruzados\",\n",
    "    \"gabrielGood1\": \"pointing\",\n",
    "    \"gabrielGood2\": \"gesticulando\"\n",
    "}j"
   ]
  },
  {
   "cell_type": "code",
   "execution_count": 46,
   "metadata": {},
   "outputs": [],
   "source": [
    "for k,v in translate.items():\n",
    "    total_df[\"ds\"] = total_df.ds.str.replace(k,v)\n"
   ]
  },
  {
   "cell_type": "code",
   "execution_count": 47,
   "metadata": {},
   "outputs": [
    {
     "data": {
      "text/plain": [
       "gesticulando       8263\n",
       "manos_juntas       7531\n",
       "bolsillos          6283\n",
       "manos_abajo        5349\n",
       "pointing           5201\n",
       "brazos_cruzados    4814\n",
       "manos_atras        4417\n",
       "Name: ds, dtype: int64"
      ]
     },
     "execution_count": 47,
     "metadata": {},
     "output_type": "execute_result"
    }
   ],
   "source": [
    "total_df[\"ds\"].value_counts()"
   ]
  },
  {
   "cell_type": "code",
   "execution_count": 48,
   "metadata": {},
   "outputs": [],
   "source": [
    "total_df[\"ds2\"] = pd.Categorical(total_df.ds)"
   ]
  },
  {
   "cell_type": "code",
   "execution_count": 49,
   "metadata": {},
   "outputs": [
    {
     "data": {
      "text/plain": [
       "frame             int64\n",
       "posture           int64\n",
       "nose_x          float64\n",
       "nose_y          float64\n",
       "neck_x          float64\n",
       "neck_y          float64\n",
       "rshoulder_x     float64\n",
       "rshoulder_y     float64\n",
       "relbow_x        float64\n",
       "relbow_y        float64\n",
       "rwrist_x        float64\n",
       "rwrist_y        float64\n",
       "lshoulder_x     float64\n",
       "lshoulder_y     float64\n",
       "lelbow_x        float64\n",
       "lelbow_y        float64\n",
       "lwrist_x        float64\n",
       "lwrist_y        float64\n",
       "rhip_x          float64\n",
       "rhip_y          float64\n",
       "rknee_x         float64\n",
       "rknee_y         float64\n",
       "rankle_x        float64\n",
       "rankle_y        float64\n",
       "lhip_x          float64\n",
       "lhip_y          float64\n",
       "lknee_x         float64\n",
       "lknee_y         float64\n",
       "lankle_x        float64\n",
       "lankle_y        float64\n",
       "ds               object\n",
       "postura_b         int64\n",
       "ds2            category\n",
       "dtype: object"
      ]
     },
     "execution_count": 49,
     "metadata": {},
     "output_type": "execute_result"
    }
   ],
   "source": [
    "total_df.dtypes"
   ]
  },
  {
   "cell_type": "code",
   "execution_count": 54,
   "metadata": {},
   "outputs": [],
   "source": [
    "total_df[\"postura\"] = total_df.ds2.cat.codes"
   ]
  },
  {
   "cell_type": "code",
   "execution_count": 56,
   "metadata": {},
   "outputs": [],
   "source": [
    "total_df = total_df[['nose_x', 'nose_y', 'neck_x', 'neck_y',\n",
    "       'rshoulder_x', 'rshoulder_y', 'relbow_x', 'relbow_y', 'rwrist_x',\n",
    "       'rwrist_y', 'lshoulder_x', 'lshoulder_y', 'lelbow_x', 'lelbow_y',\n",
    "       'lwrist_x', 'lwrist_y', 'rhip_x', 'rhip_y', 'rknee_x', 'rknee_y',\n",
    "       'rankle_x', 'rankle_y', 'lhip_x', 'lhip_y', 'lknee_x', 'lknee_y',\n",
    "       'lankle_x', 'lankle_y', 'ds','posture', 'postura_b', 'postura']]"
   ]
  },
  {
   "cell_type": "code",
   "execution_count": 57,
   "metadata": {},
   "outputs": [
    {
     "data": {
      "text/plain": [
       "Index(['nose_x', 'nose_y', 'neck_x', 'neck_y', 'rshoulder_x', 'rshoulder_y',\n",
       "       'relbow_x', 'relbow_y', 'rwrist_x', 'rwrist_y', 'lshoulder_x',\n",
       "       'lshoulder_y', 'lelbow_x', 'lelbow_y', 'lwrist_x', 'lwrist_y', 'rhip_x',\n",
       "       'rhip_y', 'rknee_x', 'rknee_y', 'rankle_x', 'rankle_y', 'lhip_x',\n",
       "       'lhip_y', 'lknee_x', 'lknee_y', 'lankle_x', 'lankle_y', 'ds', 'posture',\n",
       "       'postura_b', 'postura'],\n",
       "      dtype='object')"
      ]
     },
     "execution_count": 57,
     "metadata": {},
     "output_type": "execute_result"
    }
   ],
   "source": [
    "total_df.columns"
   ]
  },
  {
   "cell_type": "code",
   "execution_count": 58,
   "metadata": {},
   "outputs": [],
   "source": [
    "total_df.to_csv(\"complete_clean.csv\", index=False)"
   ]
  },
  {
   "cell_type": "markdown",
   "metadata": {},
   "source": [
    "# Split train test"
   ]
  },
  {
   "cell_type": "code",
   "execution_count": 145,
   "metadata": {},
   "outputs": [],
   "source": [
    "from sklearn.model_selection import train_test_split"
   ]
  },
  {
   "cell_type": "code",
   "execution_count": 146,
   "metadata": {},
   "outputs": [],
   "source": [
    "df = pd.read_csv(\"complete_clean.csv\")"
   ]
  },
  {
   "cell_type": "code",
   "execution_count": 148,
   "metadata": {},
   "outputs": [
    {
     "data": {
      "text/plain": [
       "Index(['nose_x', 'nose_y', 'neck_x', 'neck_y', 'rshoulder_x', 'rshoulder_y',\n",
       "       'relbow_x', 'relbow_y', 'rwrist_x', 'rwrist_y', 'lshoulder_x',\n",
       "       'lshoulder_y', 'lelbow_x', 'lelbow_y', 'lwrist_x', 'lwrist_y', 'rhip_x',\n",
       "       'rhip_y', 'rknee_x', 'rknee_y', 'rankle_x', 'rankle_y', 'lhip_x',\n",
       "       'lhip_y', 'lknee_x', 'lknee_y', 'lankle_x', 'lankle_y', 'ds', 'posture',\n",
       "       'postura_b', 'postura'],\n",
       "      dtype='object')"
      ]
     },
     "execution_count": 148,
     "metadata": {},
     "output_type": "execute_result"
    }
   ],
   "source": [
    "df.columns"
   ]
  },
  {
   "cell_type": "code",
   "execution_count": 149,
   "metadata": {},
   "outputs": [],
   "source": [
    "X = df.iloc[:, :-4]\n",
    "y_bin = df[\"postura_b\"]\n",
    "y = df[\"postura\"]"
   ]
  },
  {
   "cell_type": "code",
   "execution_count": 150,
   "metadata": {},
   "outputs": [
    {
     "name": "stdout",
     "output_type": "stream",
     "text": [
      "Index(['nose_x', 'nose_y', 'neck_x', 'neck_y', 'rshoulder_x', 'rshoulder_y',\n",
      "       'relbow_x', 'relbow_y', 'rwrist_x', 'rwrist_y', 'lshoulder_x',\n",
      "       'lshoulder_y', 'lelbow_x', 'lelbow_y', 'lwrist_x', 'lwrist_y', 'rhip_x',\n",
      "       'rhip_y', 'rknee_x', 'rknee_y', 'rankle_x', 'rankle_y', 'lhip_x',\n",
      "       'lhip_y', 'lknee_x', 'lknee_y', 'lankle_x', 'lankle_y'],\n",
      "      dtype='object')\n",
      "0    28394\n",
      "1    13464\n",
      "Name: postura_b, dtype: int64\n",
      "2    8263\n",
      "5    7531\n",
      "0    6283\n",
      "3    5349\n",
      "6    5201\n",
      "1    4814\n",
      "4    4417\n",
      "Name: postura, dtype: int64\n"
     ]
    }
   ],
   "source": [
    "print(X.columns)\n",
    "print(y_bin.value_counts())\n",
    "print(y.value_counts())"
   ]
  },
  {
   "cell_type": "code",
   "execution_count": 151,
   "metadata": {},
   "outputs": [],
   "source": [
    "X_train, X_test, y_train, y_test = train_test_split(X, y_bin, test_size=0.20, random_state=42, stratify=y)"
   ]
  },
  {
   "cell_type": "code",
   "execution_count": 152,
   "metadata": {},
   "outputs": [
    {
     "data": {
      "text/plain": [
       "(33486, 8372)"
      ]
     },
     "execution_count": 152,
     "metadata": {},
     "output_type": "execute_result"
    }
   ],
   "source": [
    "len(X_train), len(X_test)"
   ]
  },
  {
   "cell_type": "code",
   "execution_count": 153,
   "metadata": {},
   "outputs": [
    {
     "data": {
      "text/plain": [
       "0    5679\n",
       "1    2693\n",
       "Name: postura_b, dtype: int64"
      ]
     },
     "execution_count": 153,
     "metadata": {},
     "output_type": "execute_result"
    }
   ],
   "source": [
    "y_test.value_counts()"
   ]
  },
  {
   "cell_type": "code",
   "execution_count": 160,
   "metadata": {},
   "outputs": [],
   "source": [
    "X_train.to_csv(\"train_bin.csv\", index=False)\n",
    "X_test.to_csv(\"test_bin.csv\", index=False)"
   ]
  },
  {
   "cell_type": "code",
   "execution_count": 155,
   "metadata": {},
   "outputs": [],
   "source": [
    "X_train = pd.read_csv(\"train_bin.csv\")\n",
    "X_test = pd.read_csv(\"test_bin.csv\")"
   ]
  },
  {
   "cell_type": "code",
   "execution_count": 156,
   "metadata": {},
   "outputs": [
    {
     "data": {
      "text/plain": [
       "(33486, 33486, 8372, 8372)"
      ]
     },
     "execution_count": 156,
     "metadata": {},
     "output_type": "execute_result"
    }
   ],
   "source": [
    "len(X_train), len(y_train), len(X_test), len(y_test)"
   ]
  },
  {
   "cell_type": "code",
   "execution_count": 159,
   "metadata": {},
   "outputs": [
    {
     "data": {
      "text/plain": [
       "nose_x         0\n",
       "nose_y         0\n",
       "neck_x         0\n",
       "neck_y         0\n",
       "rshoulder_x    0\n",
       "rshoulder_y    0\n",
       "relbow_x       0\n",
       "relbow_y       0\n",
       "rwrist_x       0\n",
       "rwrist_y       0\n",
       "lshoulder_x    0\n",
       "lshoulder_y    0\n",
       "lelbow_x       0\n",
       "lelbow_y       0\n",
       "lwrist_x       0\n",
       "lwrist_y       0\n",
       "rhip_x         0\n",
       "rhip_y         0\n",
       "rknee_x        0\n",
       "rknee_y        0\n",
       "rankle_x       0\n",
       "rankle_y       0\n",
       "lhip_x         0\n",
       "lhip_y         0\n",
       "lknee_x        0\n",
       "lknee_y        0\n",
       "lankle_x       0\n",
       "lankle_y       0\n",
       "y_bin          0\n",
       "dtype: int64"
      ]
     },
     "execution_count": 159,
     "metadata": {},
     "output_type": "execute_result"
    }
   ],
   "source": [
    "X_train.isnull().sum()"
   ]
  },
  {
   "cell_type": "code",
   "execution_count": 157,
   "metadata": {},
   "outputs": [],
   "source": [
    "X_train[\"y_bin\"] = y_train.values\n",
    "X_test[\"y_bin\"] = y_test.values"
   ]
  },
  {
   "cell_type": "code",
   "execution_count": 158,
   "metadata": {},
   "outputs": [
    {
     "data": {
      "text/plain": [
       "0    22715\n",
       "1    10771\n",
       "Name: postura_b, dtype: int64"
      ]
     },
     "execution_count": 158,
     "metadata": {},
     "output_type": "execute_result"
    }
   ],
   "source": [
    "y_train.value_counts()"
   ]
  },
  {
   "cell_type": "code",
   "execution_count": 161,
   "metadata": {},
   "outputs": [],
   "source": [
    "X_train, X_test, y_train, y_test = train_test_split(X, y, test_size=0.20, random_state=42, stratify=y)"
   ]
  },
  {
   "cell_type": "code",
   "execution_count": 162,
   "metadata": {},
   "outputs": [],
   "source": [
    "X_train.to_csv(\"train.csv\", index=False)\n",
    "X_test.to_csv(\"test.csv\", index=False)\n",
    "X_train = pd.read_csv(\"train.csv\")\n",
    "X_test = pd.read_csv(\"test.csv\")\n",
    "X_train[\"y\"] = y_train.values\n",
    "X_test[\"y\"] = y_test.values\n",
    "X_train.to_csv(\"train.csv\", index=False)\n",
    "X_test.to_csv(\"test.csv\", index=False)"
   ]
  },
  {
   "cell_type": "code",
   "execution_count": 163,
   "metadata": {},
   "outputs": [],
   "source": [
    "train = pd.read_csv(\"train.csv\")\n",
    "train_bin = pd.read_csv(\"train_bin.csv\")"
   ]
  },
  {
   "cell_type": "code",
   "execution_count": 164,
   "metadata": {},
   "outputs": [
    {
     "data": {
      "text/plain": [
       "Index(['nose_x', 'nose_y', 'neck_x', 'neck_y', 'rshoulder_x', 'rshoulder_y',\n",
       "       'relbow_x', 'relbow_y', 'rwrist_x', 'rwrist_y', 'lshoulder_x',\n",
       "       'lshoulder_y', 'lelbow_x', 'lelbow_y', 'lwrist_x', 'lwrist_y', 'rhip_x',\n",
       "       'rhip_y', 'rknee_x', 'rknee_y', 'rankle_x', 'rankle_y', 'lhip_x',\n",
       "       'lhip_y', 'lknee_x', 'lknee_y', 'lankle_x', 'lankle_y', 'y'],\n",
       "      dtype='object')"
      ]
     },
     "execution_count": 164,
     "metadata": {},
     "output_type": "execute_result"
    }
   ],
   "source": [
    "train.columns"
   ]
  },
  {
   "cell_type": "code",
   "execution_count": 165,
   "metadata": {},
   "outputs": [
    {
     "data": {
      "text/plain": [
       "Index(['nose_x', 'nose_y', 'neck_x', 'neck_y', 'rshoulder_x', 'rshoulder_y',\n",
       "       'relbow_x', 'relbow_y', 'rwrist_x', 'rwrist_y', 'lshoulder_x',\n",
       "       'lshoulder_y', 'lelbow_x', 'lelbow_y', 'lwrist_x', 'lwrist_y', 'rhip_x',\n",
       "       'rhip_y', 'rknee_x', 'rknee_y', 'rankle_x', 'rankle_y', 'lhip_x',\n",
       "       'lhip_y', 'lknee_x', 'lknee_y', 'lankle_x', 'lankle_y', 'y_bin'],\n",
       "      dtype='object')"
      ]
     },
     "execution_count": 165,
     "metadata": {},
     "output_type": "execute_result"
    }
   ],
   "source": [
    "train_bin.columns"
   ]
  },
  {
   "cell_type": "code",
   "execution_count": 102,
   "metadata": {},
   "outputs": [
    {
     "data": {
      "text/plain": [
       "2.0    6610\n",
       "5.0    5149\n",
       "6.0    4161\n",
       "0.0    4143\n",
       "3.0    3503\n",
       "4.0    1917\n",
       "1.0    1320\n",
       "Name: y, dtype: int64"
      ]
     },
     "execution_count": 102,
     "metadata": {},
     "output_type": "execute_result"
    }
   ],
   "source": [
    "train.y.value_counts()"
   ]
  },
  {
   "cell_type": "code",
   "execution_count": 104,
   "metadata": {},
   "outputs": [
    {
     "data": {
      "text/plain": [
       "0.0    16032\n",
       "1.0    10771\n",
       "Name: y_bin, dtype: int64"
      ]
     },
     "execution_count": 104,
     "metadata": {},
     "output_type": "execute_result"
    }
   ],
   "source": [
    "train_bin.y_bin.value_counts()"
   ]
  },
  {
   "cell_type": "code",
   "execution_count": 105,
   "metadata": {},
   "outputs": [
    {
     "data": {
      "text/html": [
       "<div>\n",
       "<style scoped>\n",
       "    .dataframe tbody tr th:only-of-type {\n",
       "        vertical-align: middle;\n",
       "    }\n",
       "\n",
       "    .dataframe tbody tr th {\n",
       "        vertical-align: top;\n",
       "    }\n",
       "\n",
       "    .dataframe thead th {\n",
       "        text-align: right;\n",
       "    }\n",
       "</style>\n",
       "<table border=\"1\" class=\"dataframe\">\n",
       "  <thead>\n",
       "    <tr style=\"text-align: right;\">\n",
       "      <th></th>\n",
       "      <th>nose_x</th>\n",
       "      <th>nose_y</th>\n",
       "      <th>neck_x</th>\n",
       "      <th>neck_y</th>\n",
       "      <th>rshoulder_x</th>\n",
       "      <th>rshoulder_y</th>\n",
       "      <th>relbow_x</th>\n",
       "      <th>relbow_y</th>\n",
       "      <th>rwrist_x</th>\n",
       "      <th>rwrist_y</th>\n",
       "      <th>...</th>\n",
       "      <th>rknee_y</th>\n",
       "      <th>rankle_x</th>\n",
       "      <th>rankle_y</th>\n",
       "      <th>lhip_x</th>\n",
       "      <th>lhip_y</th>\n",
       "      <th>lknee_x</th>\n",
       "      <th>lknee_y</th>\n",
       "      <th>lankle_x</th>\n",
       "      <th>lankle_y</th>\n",
       "      <th>y_bin</th>\n",
       "    </tr>\n",
       "  </thead>\n",
       "  <tbody>\n",
       "    <tr>\n",
       "      <th>0</th>\n",
       "      <td>1159.180</td>\n",
       "      <td>399.171</td>\n",
       "      <td>1091.780</td>\n",
       "      <td>481.314</td>\n",
       "      <td>1021.310</td>\n",
       "      <td>478.273</td>\n",
       "      <td>994.766</td>\n",
       "      <td>616.198</td>\n",
       "      <td>1041.940</td>\n",
       "      <td>742.488</td>\n",
       "      <td>...</td>\n",
       "      <td>927.500</td>\n",
       "      <td>1033.050</td>\n",
       "      <td>1071.30</td>\n",
       "      <td>1141.660</td>\n",
       "      <td>751.312</td>\n",
       "      <td>1112.350</td>\n",
       "      <td>930.322</td>\n",
       "      <td>1068.290</td>\n",
       "      <td>1071.25</td>\n",
       "      <td>1.0</td>\n",
       "    </tr>\n",
       "    <tr>\n",
       "      <th>1</th>\n",
       "      <td>575.137</td>\n",
       "      <td>366.967</td>\n",
       "      <td>510.715</td>\n",
       "      <td>475.372</td>\n",
       "      <td>454.745</td>\n",
       "      <td>463.680</td>\n",
       "      <td>457.749</td>\n",
       "      <td>598.721</td>\n",
       "      <td>586.927</td>\n",
       "      <td>669.039</td>\n",
       "      <td>...</td>\n",
       "      <td>927.464</td>\n",
       "      <td>428.429</td>\n",
       "      <td>1071.29</td>\n",
       "      <td>572.161</td>\n",
       "      <td>751.303</td>\n",
       "      <td>551.690</td>\n",
       "      <td>944.979</td>\n",
       "      <td>522.387</td>\n",
       "      <td>1071.29</td>\n",
       "      <td>1.0</td>\n",
       "    </tr>\n",
       "    <tr>\n",
       "      <th>2</th>\n",
       "      <td>1182.540</td>\n",
       "      <td>396.184</td>\n",
       "      <td>1162.230</td>\n",
       "      <td>484.292</td>\n",
       "      <td>1088.700</td>\n",
       "      <td>481.422</td>\n",
       "      <td>1065.210</td>\n",
       "      <td>610.438</td>\n",
       "      <td>1068.300</td>\n",
       "      <td>584.002</td>\n",
       "      <td>...</td>\n",
       "      <td>918.632</td>\n",
       "      <td>1100.540</td>\n",
       "      <td>1071.26</td>\n",
       "      <td>1229.780</td>\n",
       "      <td>745.451</td>\n",
       "      <td>1279.440</td>\n",
       "      <td>921.481</td>\n",
       "      <td>1314.760</td>\n",
       "      <td>1071.26</td>\n",
       "      <td>NaN</td>\n",
       "    </tr>\n",
       "    <tr>\n",
       "      <th>3</th>\n",
       "      <td>504.923</td>\n",
       "      <td>384.562</td>\n",
       "      <td>460.772</td>\n",
       "      <td>457.971</td>\n",
       "      <td>366.933</td>\n",
       "      <td>469.530</td>\n",
       "      <td>337.416</td>\n",
       "      <td>610.386</td>\n",
       "      <td>390.347</td>\n",
       "      <td>716.215</td>\n",
       "      <td>...</td>\n",
       "      <td>924.370</td>\n",
       "      <td>472.522</td>\n",
       "      <td>1071.28</td>\n",
       "      <td>566.372</td>\n",
       "      <td>716.154</td>\n",
       "      <td>563.485</td>\n",
       "      <td>900.908</td>\n",
       "      <td>522.311</td>\n",
       "      <td>1071.20</td>\n",
       "      <td>1.0</td>\n",
       "    </tr>\n",
       "    <tr>\n",
       "      <th>4</th>\n",
       "      <td>739.567</td>\n",
       "      <td>363.842</td>\n",
       "      <td>710.103</td>\n",
       "      <td>466.627</td>\n",
       "      <td>619.200</td>\n",
       "      <td>475.467</td>\n",
       "      <td>578.252</td>\n",
       "      <td>613.318</td>\n",
       "      <td>625.083</td>\n",
       "      <td>713.263</td>\n",
       "      <td>...</td>\n",
       "      <td>924.462</td>\n",
       "      <td>695.582</td>\n",
       "      <td>1071.27</td>\n",
       "      <td>783.653</td>\n",
       "      <td>736.618</td>\n",
       "      <td>759.958</td>\n",
       "      <td>927.411</td>\n",
       "      <td>669.189</td>\n",
       "      <td>1071.24</td>\n",
       "      <td>1.0</td>\n",
       "    </tr>\n",
       "  </tbody>\n",
       "</table>\n",
       "<p>5 rows × 29 columns</p>\n",
       "</div>"
      ],
      "text/plain": [
       "     nose_x   nose_y    neck_x   neck_y  rshoulder_x  rshoulder_y  relbow_x  \\\n",
       "0  1159.180  399.171  1091.780  481.314     1021.310      478.273   994.766   \n",
       "1   575.137  366.967   510.715  475.372      454.745      463.680   457.749   \n",
       "2  1182.540  396.184  1162.230  484.292     1088.700      481.422  1065.210   \n",
       "3   504.923  384.562   460.772  457.971      366.933      469.530   337.416   \n",
       "4   739.567  363.842   710.103  466.627      619.200      475.467   578.252   \n",
       "\n",
       "   relbow_y  rwrist_x  rwrist_y  ...    rknee_y  rankle_x  rankle_y    lhip_x  \\\n",
       "0   616.198  1041.940   742.488  ...    927.500  1033.050   1071.30  1141.660   \n",
       "1   598.721   586.927   669.039  ...    927.464   428.429   1071.29   572.161   \n",
       "2   610.438  1068.300   584.002  ...    918.632  1100.540   1071.26  1229.780   \n",
       "3   610.386   390.347   716.215  ...    924.370   472.522   1071.28   566.372   \n",
       "4   613.318   625.083   713.263  ...    924.462   695.582   1071.27   783.653   \n",
       "\n",
       "    lhip_y   lknee_x  lknee_y  lankle_x  lankle_y  y_bin  \n",
       "0  751.312  1112.350  930.322  1068.290   1071.25    1.0  \n",
       "1  751.303   551.690  944.979   522.387   1071.29    1.0  \n",
       "2  745.451  1279.440  921.481  1314.760   1071.26    NaN  \n",
       "3  716.154   563.485  900.908   522.311   1071.20    1.0  \n",
       "4  736.618   759.958  927.411   669.189   1071.24    1.0  \n",
       "\n",
       "[5 rows x 29 columns]"
      ]
     },
     "execution_count": 105,
     "metadata": {},
     "output_type": "execute_result"
    }
   ],
   "source": [
    "train_bin.head()"
   ]
  }
 ],
 "metadata": {
  "kernelspec": {
   "display_name": "Python 3",
   "language": "python",
   "name": "python3"
  },
  "language_info": {
   "codemirror_mode": {
    "name": "ipython",
    "version": 3
   },
   "file_extension": ".py",
   "mimetype": "text/x-python",
   "name": "python",
   "nbconvert_exporter": "python",
   "pygments_lexer": "ipython3",
   "version": "3.7.1"
  }
 },
 "nbformat": 4,
 "nbformat_minor": 2
}
